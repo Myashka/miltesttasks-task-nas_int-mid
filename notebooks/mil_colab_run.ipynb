{
  "nbformat": 4,
  "nbformat_minor": 0,
  "metadata": {
    "colab": {
      "provenance": [],
      "gpuType": "T4"
    },
    "kernelspec": {
      "name": "python3",
      "display_name": "Python 3"
    },
    "language_info": {
      "name": "python"
    },
    "accelerator": "GPU"
  },
  "cells": [
    {
      "cell_type": "code",
      "execution_count": 1,
      "metadata": {
        "id": "xljnlR4MTZO4",
        "colab": {
          "base_uri": "https://localhost:8080/"
        },
        "outputId": "4068229c-91df-4901-d747-f2b6df249c4a"
      },
      "outputs": [
        {
          "output_type": "stream",
          "name": "stdout",
          "text": [
            "Cloning into 'miltesttasks-task-nas_int-mid'...\n",
            "remote: Enumerating objects: 301, done.\u001b[K\n",
            "remote: Counting objects: 100% (301/301), done.\u001b[K\n",
            "remote: Compressing objects: 100% (188/188), done.\u001b[K\n",
            "remote: Total 301 (delta 143), reused 267 (delta 109), pack-reused 0\u001b[K\n",
            "Receiving objects: 100% (301/301), 4.53 MiB | 20.33 MiB/s, done.\n",
            "Resolving deltas: 100% (143/143), done.\n"
          ]
        }
      ],
      "source": [
        "!git clone https://github.com/Myashka/miltesttasks-task-nas_int-mid.git"
      ]
    },
    {
      "cell_type": "code",
      "source": [
        "!pip install -r /content/miltesttasks-task-nas_int-mid/requirements.txt"
      ],
      "metadata": {
        "id": "npXyzb9SERzo"
      },
      "execution_count": null,
      "outputs": []
    },
    {
      "cell_type": "code",
      "source": [
        "!pip install -e /content/miltesttasks-task-nas_int-mid/"
      ],
      "metadata": {
        "id": "5C55qthkTe0B",
        "colab": {
          "base_uri": "https://localhost:8080/"
        },
        "outputId": "8b5894ae-04a0-4870-9164-3c3f38084e70"
      },
      "execution_count": 3,
      "outputs": [
        {
          "output_type": "stream",
          "name": "stdout",
          "text": [
            "Obtaining file:///content/miltesttasks-task-nas_int-mid\n",
            "  Preparing metadata (setup.py) ... \u001b[?25l\u001b[?25hdone\n",
            "Installing collected packages: src\n",
            "  Running setup.py develop for src\n",
            "Successfully installed src-0.1.0\n"
          ]
        }
      ]
    },
    {
      "cell_type": "code",
      "source": [
        "!python /content/miltesttasks-task-nas_int-mid/scripts/train.py --config-file /content/miltesttasks-task-nas_int-mid/configs/train-config.yaml"
      ],
      "metadata": {
        "id": "y8l1kKt5UNV-"
      },
      "execution_count": null,
      "outputs": []
    },
    {
      "cell_type": "code",
      "source": [
        "!python /content/miltesttasks-task-nas_int-mid/scripts/inference.py --config-file /content/miltesttasks-task-nas_int-mid/configs/test-config.yaml --output-file /content/miltesttasks-task-nas_int-mid/artifacts/test/from_scratch/32_64/result_3_3.csv"
      ],
      "metadata": {
        "id": "7iWO6NWmVr1R"
      },
      "execution_count": null,
      "outputs": []
    },
    {
      "cell_type": "code",
      "source": [
        "!chmod +x /content/miltesttasks-task-nas_int-mid/scripts/run_inference.sh\n",
        "!/content/miltesttasks-task-nas_int-mid/scripts/run_inference.sh"
      ],
      "metadata": {
        "id": "FTbLd6Z3QTsd"
      },
      "execution_count": null,
      "outputs": []
    },
    {
      "cell_type": "code",
      "source": [],
      "metadata": {
        "id": "5yIEaFZwkDJN"
      },
      "execution_count": null,
      "outputs": []
    }
  ]
}