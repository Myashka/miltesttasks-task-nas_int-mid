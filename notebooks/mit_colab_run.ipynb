{
  "cells": [
    {
      "cell_type": "code",
      "execution_count": null,
      "metadata": {
        "colab": {
          "base_uri": "https://localhost:8080/"
        },
        "id": "xljnlR4MTZO4",
        "outputId": "b108dbf0-897c-45e5-9743-8cfed3aafef1"
      },
      "outputs": [],
      "source": [
        "!git clone https://github.com/Myashka/miltesttasks-task-nas_int-mid.git"
      ]
    },
    {
      "cell_type": "code",
      "execution_count": null,
      "metadata": {
        "id": "npXyzb9SERzo"
      },
      "outputs": [],
      "source": [
        "!pip install -r /content/miltesttasks-task-nas_int-mid/requirements.txt"
      ]
    },
    {
      "cell_type": "code",
      "execution_count": null,
      "metadata": {
        "colab": {
          "base_uri": "https://localhost:8080/"
        },
        "id": "5C55qthkTe0B",
        "outputId": "f0edc253-d137-4f61-fd93-81ec2fc13ac1"
      },
      "outputs": [],
      "source": [
        "!pip install -e /content/miltesttasks-task-nas_int-mid/"
      ]
    },
    {
      "cell_type": "code",
      "execution_count": null,
      "metadata": {
        "colab": {
          "base_uri": "https://localhost:8080/"
        },
        "id": "y8l1kKt5UNV-",
        "outputId": "bb286444-661a-4a1a-b4c1-dff4b26c8256"
      },
      "outputs": [],
      "source": [
        "!python /content/miltesttasks-task-nas_int-mid/scripts/train.py --config-file /content/miltesttasks-task-nas_int-mid/configs/train-config.yaml"
      ]
    },
    {
      "cell_type": "code",
      "execution_count": null,
      "metadata": {
        "colab": {
          "base_uri": "https://localhost:8080/"
        },
        "id": "7iWO6NWmVr1R",
        "outputId": "2a985a9d-0c3b-4ef1-dc65-e05ce8d62526"
      },
      "outputs": [],
      "source": [
        "!python /content/miltesttasks-task-nas_int-mid/scripts/inference.py --config-file /content/miltesttasks-task-nas_int-mid/configs/test-config.yaml --output-file /content/miltesttasks-task-nas_int-mid/artifacts/test/random_sampler/result_3_3.csv"
      ]
    },
    {
      "cell_type": "code",
      "execution_count": null,
      "metadata": {
        "id": "FTbLd6Z3QTsd"
      },
      "outputs": [],
      "source": []
    }
  ],
  "metadata": {
    "accelerator": "GPU",
    "colab": {
      "gpuType": "T4",
      "provenance": []
    },
    "kernelspec": {
      "display_name": "Python 3",
      "name": "python3"
    },
    "language_info": {
      "name": "python"
    }
  },
  "nbformat": 4,
  "nbformat_minor": 0
}
